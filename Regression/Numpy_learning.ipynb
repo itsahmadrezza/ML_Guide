{
 "cells": [
  {
   "cell_type": "markdown",
   "id": "60535f04-bbfd-4577-bad9-a8834a29e302",
   "metadata": {},
   "source": [
    "# Numpy Library"
   ]
  },
  {
   "cell_type": "markdown",
   "id": "27e2ca05-a7f3-47b3-9c82-53bbe20aa1d3",
   "metadata": {},
   "source": [
    "### import Numpy"
   ]
  },
  {
   "cell_type": "code",
   "execution_count": 2,
   "id": "2a4a394c-9c5e-4c1c-b8ee-f7897791fe9a",
   "metadata": {},
   "outputs": [],
   "source": [
    "import numpy as np"
   ]
  },
  {
   "cell_type": "markdown",
   "id": "70e4d682-5205-49d7-af6d-cd08b57281ad",
   "metadata": {},
   "source": [
    "### Numpy Arrays:"
   ]
  },
  {
   "cell_type": "code",
   "execution_count": 4,
   "id": "41c2b85a-0d3a-42cf-acc1-3cd2d811b17d",
   "metadata": {},
   "outputs": [
    {
     "data": {
      "text/plain": [
       "array(5)"
      ]
     },
     "execution_count": 4,
     "metadata": {},
     "output_type": "execute_result"
    }
   ],
   "source": [
    "a = np.array(5)\n",
    "a"
   ]
  },
  {
   "cell_type": "code",
   "execution_count": 5,
   "id": "586e964a-b4e8-407d-acbb-0381e09eea87",
   "metadata": {},
   "outputs": [
    {
     "data": {
      "text/plain": [
       "array([ 0,  1,  2,  3,  4,  5,  6,  7,  8,  9, 10, 11, 12, 13, 14])"
      ]
     },
     "execution_count": 5,
     "metadata": {},
     "output_type": "execute_result"
    }
   ],
   "source": [
    "# create Array To Range (15)\n",
    "a = np.arange(15)\n",
    "a"
   ]
  },
  {
   "cell_type": "code",
   "execution_count": 9,
   "id": "f4b69cfe-3c01-4a70-8f73-4cfc5ab9eefc",
   "metadata": {},
   "outputs": [
    {
     "data": {
      "text/plain": [
       "array([[ 0,  1,  2,  3,  4],\n",
       "       [ 5,  6,  7,  8,  9],\n",
       "       [10, 11, 12, 13, 14]])"
      ]
     },
     "execution_count": 9,
     "metadata": {},
     "output_type": "execute_result"
    }
   ],
   "source": [
    "# Reshape \"a\" to a matrix in Shape 3*5\n",
    "# 3 Rows, 5 columns\n",
    "# It Only works for \"arange()\"\n",
    "\"\"\"\n",
    "a.reshape(3, 5)\n",
    "          |  |\n",
    "     Row <-  -> Columns\n",
    "\"\"\"\n",
    "a.reshape(3, 5)"
   ]
  },
  {
   "cell_type": "code",
   "execution_count": null,
   "id": "c149c148-9f8b-4bd3-9425-a272dc3b0f3a",
   "metadata": {},
   "outputs": [],
   "source": [
    " "
   ]
  }
 ],
 "metadata": {
  "kernelspec": {
   "display_name": "Python 3 (ipykernel)",
   "language": "python",
   "name": "python3"
  },
  "language_info": {
   "codemirror_mode": {
    "name": "ipython",
    "version": 3
   },
   "file_extension": ".py",
   "mimetype": "text/x-python",
   "name": "python",
   "nbconvert_exporter": "python",
   "pygments_lexer": "ipython3",
   "version": "3.11.2"
  }
 },
 "nbformat": 4,
 "nbformat_minor": 5
}
